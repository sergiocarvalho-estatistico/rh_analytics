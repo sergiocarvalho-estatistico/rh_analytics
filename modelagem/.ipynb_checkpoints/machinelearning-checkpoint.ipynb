{
 "cells": [
  {
   "cell_type": "markdown",
   "metadata": {},
   "source": [
    "---\n",
    "title: \"RH Analytics - Machine Learning\"\n",
    "author: \"Sérgio Carvalho\"\n",
    "date: \"03 setembro, 2019\"\n",
    "output:\n",
    "  rmdformats::readthedown:\n",
    "    self_contained: true\n",
    "    highlight: zenburn \n",
    "    code_folding: show\n",
    "    style_body: justify\n",
    "    df_print: paged\n",
    "    number_sections: yes\n",
    "    toc_float:\n",
    "      collapsed: yes\n",
    "      smooth_scroll: yes\n",
    "editor_options: \n",
    "    chunk_output_type: inline\n",
    "---\n",
    "\n",
    "\n",
    "\n",
    "\n",
    "\n",
    "\n",
    "  \n",
    "\n",
    "\n",
    "\n",
    "# Objetivos\n",
    "\n",
    "  * Construir Modelos Preditivos.  \n",
    "  * Métricas de Performance\n",
    "    * Sensitivity\n",
    "    * Specificity\n",
    "    * Precision\n",
    "    * Recall\n",
    "    * F1 \n",
    "\n",
    "# Conjunto de dados"
   ]
  },
  {
   "cell_type": "code",
   "execution_count": null,
   "metadata": {},
   "outputs": [],
   "source": [
    "%%R\n",
    "df.train <- fread('../outputs/df.train.csv', \n",
    "                     sep=\",\", \n",
    "                     showProgress = FALSE)[,-1] %>%\n",
    "                     data.frame(stringsAsFactors = T)  \n",
    "\n",
    "df.sub <- fread('../outputs/df.sub.csv', \n",
    "                      sep=\",\", \n",
    "                      showProgress = FALSE)[,-1] %>%\n",
    "                      data.frame(stringsAsFactors = T) %>% select(-aprovado_vaga)"
   ]
  },
  {
   "cell_type": "code",
   "execution_count": null,
   "metadata": {},
   "outputs": [],
   "source": [
    "%%R\n",
    "df.train[,lapply(df.train,'class')=='character'] = df.train[,lapply(df.train,'class')=='character'] %>% \n",
    "                                                                                     lapply(factor) %>% \n",
    "                                                                       data.frame(stringsAsFactors = T)\n",
    "\n",
    "df.sub[,lapply(df.sub,'class')=='character'] = df.sub[,lapply(df.sub,'class')=='character'] %>% \n",
    "                                                                             lapply(factor) %>% \n",
    "                                                                       data.frame(stringsAsFactors = T)"
   ]
  },
  {
   "cell_type": "code",
   "execution_count": null,
   "metadata": {},
   "outputs": [],
   "source": [
    "%%R\n",
    "lapply(df.train,class) %>% \n",
    "                unlist %>% \n",
    "                 table"
   ]
  },
  {
   "cell_type": "markdown",
   "metadata": {},
   "source": [
    "## Tratando os Níveis das Categorias \n",
    "\n",
    "Aqui quero garantir que os níveis das variáveis categóricas em **df.train** estejam também em **df.sub**."
   ]
  },
  {
   "cell_type": "code",
   "execution_count": null,
   "metadata": {},
   "outputs": [],
   "source": [
    "%%R\n",
    "levels(df.train$cargo_vaga) <- c(levels(df.train$cargo_vaga),\n",
    "                                 levels(df.sub$cargo_vaga))\n",
    "levels(df.sub$cargo_vaga)   <- levels(df.train$cargo_vaga)\n",
    "\n",
    "levels(df.train$area_interesse_candidato) <- c(levels(df.train$area_interesse_candidato),\n",
    "                                               levels(df.sub$area_interesse_candidato))\n",
    "levels(df.sub$area_interesse_candidato)   <- levels(df.train$area_interesse_candidato)\n",
    "\n",
    "levels(df.train$ultimo_cargo_candidato) <- c(levels(df.train$ultimo_cargo_candidato),\n",
    "                                             levels(df.sub$ultimo_cargo_candidato))\n",
    "levels(df.sub$ultimo_cargo_candidato)   <- levels(df.train$ultimo_cargo_candidato)\n",
    "\n",
    "levels(df.train$codigo_vaga) <- c(levels(df.train$codigo_vaga),\n",
    "                                  levels(df.sub$codigo_vaga))\n",
    "levels(df.sub$codigo_vaga)   <- levels(df.train$codigo_vaga)\n",
    "\n",
    "levels(df.train$nivel_candidato) <- c(levels(df.train$nivel_candidato),\n",
    "                                      levels(df.sub$nivel_candidato))\n",
    "levels(df.sub$nivel_candidato)   <- levels(df.train$nivel_candidato)\n",
    "\n",
    "levels(df.train$formacao_candidato) <- c(levels(df.train$formacao_candidato),\n",
    "                                         levels(df.sub$formacao_candidato))\n",
    "levels(df.sub$formacao_candidato)   <- levels(df.train$formacao_candidato)\n",
    "\n",
    "levels(df.train$formacao_vaga) <- c(levels(df.train$formacao_vaga),\n",
    "                                    levels(df.sub$formacao_vaga))\n",
    "levels(df.sub$formacao_vaga)   <- levels(df.train$formacao_vaga)\n",
    "\n",
    "levels(df.train$cidade_vaga) <- c(levels(df.train$cidade_vaga),\n",
    "                                  levels(df.sub$cidade_vaga))\n",
    "levels(df.sub$cidade_vaga)   <- levels(df.train$cidade_vaga)"
   ]
  },
  {
   "cell_type": "markdown",
   "metadata": {},
   "source": [
    "## Importância das Variáveis Categóricas\n",
    "\n",
    "É interessante notar que após o pré-processamento de dados que realizamos em **dataprep.Rmd** houve uma mudança nos percentuais de importância das covariáveis em relação a variável **target**. Observe que agora a variável de maior importância é a **mediana_teste_ingles_candidato**."
   ]
  },
  {
   "cell_type": "code",
   "execution_count": null,
   "metadata": {},
   "outputs": [],
   "source": [
    "%%R\n",
    "importance.vars(df.train,'aprovado_vaga')"
   ]
  },
  {
   "cell_type": "markdown",
   "metadata": {},
   "source": [
    "# Modelando Dados Desbalanceados Originais"
   ]
  },
  {
   "cell_type": "code",
   "execution_count": null,
   "metadata": {},
   "outputs": [],
   "source": [
    "%%R\n",
    "df.train <- df.train %>% \n",
    "            mutate(aprovado_vaga = ifelse(aprovado_vaga == 0,\n",
    "                                                 'reprovado',\n",
    "                                                 'aprovado'))\n",
    "\n",
    "df.train$aprovado_vaga <- as.factor(df.train$aprovado_vaga)\n",
    "\n",
    "df.train %>% head()"
   ]
  },
  {
   "cell_type": "markdown",
   "metadata": {},
   "source": [
    "## Split no conjunto de dados"
   ]
  },
  {
   "cell_type": "code",
   "execution_count": null,
   "metadata": {},
   "outputs": [],
   "source": [
    "%%R\n",
    "set.seed(42)\n",
    "index <- createDataPartition(df.train$aprovado_vaga, p = 0.7, list = FALSE)\n",
    "train_data <- df.train[index, ]\n",
    "test_data  <- df.train[-index,]"
   ]
  },
  {
   "cell_type": "markdown",
   "metadata": {},
   "source": [
    "proporções da variável resposta."
   ]
  },
  {
   "cell_type": "code",
   "execution_count": null,
   "metadata": {},
   "outputs": [],
   "source": [
    "%%R\n",
    "prop.table(table(train_data$aprovado_vaga))"
   ]
  },
  {
   "cell_type": "markdown",
   "metadata": {},
   "source": [
    "# Aprendizado de Máquina __Gradient Boosting Machine__ __(gbm)__\n",
    "\n",
    "Para modelar esses dados, será utilizado o algoritmo __Gradient Boosting Machine__ __(gbm)__, pois ele pode lidar facilmente com possíveis interações e não linearidades. Os hiperparâmetros do modelo são ajustados usando a validação cruzada repetida no conjunto de treinamento, repetindo cinco vezes com dez dobras usadas em cada repetição. A AUC é usada para avaliar o classificador para evitar a necessidade de tomar decisões sobre o limite de classificação. \n",
    "\n",
    "\n",
    "## Configurando os hiperparâmetros"
   ]
  },
  {
   "cell_type": "code",
   "execution_count": null,
   "metadata": {},
   "outputs": [],
   "source": [
    "%%R\n",
    "ctrl <- trainControl(method = \"repeatedcv\",\n",
    "                     number = 10,\n",
    "                     repeats = 5,\n",
    "                     preProcOptions = c(\"center\",\"scale\"),\n",
    "                     summaryFunction = twoClassSummary,\n",
    "                     classProbs = TRUE,\n",
    "                     allowParallel = T)"
   ]
  },
  {
   "cell_type": "markdown",
   "metadata": {},
   "source": [
    "## Primeiro Modelo\n",
    "\n",
    "Aqui estou construindo um modelo com dados brutos, sem qualquer processo de amostragem."
   ]
  },
  {
   "cell_type": "code",
   "execution_count": null,
   "metadata": {},
   "outputs": [],
   "source": [
    "%%R\n",
    "set.seed(5627)\n",
    "\n",
    "cl = start.cluster()\n",
    "\n",
    "gbm.orig <- caret::train(aprovado_vaga ~ .,\n",
    "                         data = train_data,\n",
    "                         method = \"gbm\",\n",
    "                         verbose = FALSE,\n",
    "                         metric = \"ROC\",\n",
    "                         trControl = ctrl)\n",
    "\n",
    "stop.Cluster(cl)\n",
    "\n",
    "saveRDS(gbm.orig,'../outputs/gbm.orig.rds')"
   ]
  },
  {
   "cell_type": "markdown",
   "metadata": {},
   "source": [
    "## Ponderando a Variável Resposta   \n",
    "\n",
    "Atribuindo pesos as proporções da variável resposta."
   ]
  },
  {
   "cell_type": "code",
   "execution_count": null,
   "metadata": {},
   "outputs": [],
   "source": [
    "%%R\n",
    "model_weights <- ifelse(train_data$aprovado_vaga == \"aprovado\",\n",
    "                        (1/table(train_data$aprovado_vaga)[1]) * 0.5,\n",
    "                        (1/table(train_data$aprovado_vaga)[2]) * 0.5)"
   ]
  },
  {
   "cell_type": "markdown",
   "metadata": {},
   "source": [
    "usando a mesma semente em todos os modelos para garantir as mesmas divisões de validação cruzada."
   ]
  },
  {
   "cell_type": "code",
   "execution_count": null,
   "metadata": {},
   "outputs": [],
   "source": [
    "%%R\n",
    "ctrl$seeds <- gbm.orig$control$seeds"
   ]
  },
  {
   "cell_type": "markdown",
   "metadata": {},
   "source": [
    "## Modelo Ponderado"
   ]
  },
  {
   "cell_type": "code",
   "execution_count": null,
   "metadata": {},
   "outputs": [],
   "source": [
    "%%R\n",
    "cl = start.cluster()\n",
    "\n",
    "gbm.weighted <- caret::train(aprovado_vaga ~ .,\n",
    "                             data = train_data,\n",
    "                             method = \"gbm\",\n",
    "                             verbose = FALSE,\n",
    "                             weights = model_weights,\n",
    "                             metric = \"ROC\",\n",
    "                             trControl = ctrl)\n",
    "\n",
    "stop.Cluster(cl)\n",
    "saveRDS(gbm.orig,'../outputs/gbm.weighted.rds')"
   ]
  },
  {
   "cell_type": "markdown",
   "metadata": {},
   "source": [
    "## Modelo down-sampled"
   ]
  },
  {
   "cell_type": "code",
   "execution_count": null,
   "metadata": {},
   "outputs": [],
   "source": [
    "%%R\n",
    "ctrl$sampling <- \"down\""
   ]
  },
  {
   "cell_type": "code",
   "execution_count": null,
   "metadata": {},
   "outputs": [],
   "source": [
    "%%R\n",
    "cl = start.cluster()\n",
    "\n",
    "gbm.down <- caret::train(aprovado_vaga ~ .,\n",
    "                         data = train_data,\n",
    "                         method = \"gbm\",\n",
    "                         verbose = FALSE,\n",
    "                         metric = \"ROC\",\n",
    "                         trControl = ctrl)\n",
    "\n",
    "saveRDS(gbm.orig,'../outputs/gbm.down.rds')\n",
    "stop.Cluster(cl)"
   ]
  },
  {
   "cell_type": "markdown",
   "metadata": {},
   "source": [
    "## Modelo up-sampled"
   ]
  },
  {
   "cell_type": "code",
   "execution_count": null,
   "metadata": {},
   "outputs": [],
   "source": [
    "%%R\n",
    "ctrl$sampling <- \"up\""
   ]
  },
  {
   "cell_type": "code",
   "execution_count": null,
   "metadata": {},
   "outputs": [],
   "source": [
    "%%R\n",
    "cl = start.cluster()\n",
    "\n",
    "gbm.up <- caret::train(aprovado_vaga ~ .,\n",
    "                       data = train_data,\n",
    "                       method = \"gbm\",\n",
    "                       verbose = FALSE,\n",
    "                       metric = \"ROC\",\n",
    "                       trControl = ctrl)\n",
    "\n",
    "saveRDS(gbm.orig,'../outputs/gbm.up.rds')\n",
    "stop.Cluster(cl)"
   ]
  },
  {
   "cell_type": "markdown",
   "metadata": {},
   "source": [
    "## Modelo Smote"
   ]
  },
  {
   "cell_type": "code",
   "execution_count": null,
   "metadata": {},
   "outputs": [],
   "source": [
    "%%R\n",
    "ctrl$sampling <- \"smote\""
   ]
  },
  {
   "cell_type": "code",
   "execution_count": null,
   "metadata": {},
   "outputs": [],
   "source": [
    "%%R\n",
    "cl = start.cluster()\n",
    "\n",
    "gbm.smote <- caret::train(aprovado_vaga ~ .,\n",
    "                           data = train_data,\n",
    "                           method = \"gbm\",\n",
    "                           verbose = FALSE,\n",
    "                           metric = \"ROC\",\n",
    "                           trControl = ctrl)\n",
    "\n",
    "saveRDS(gbm.orig,'../outputs/gbm.smote.rds')\n",
    "stop.Cluster(cl)"
   ]
  },
  {
   "cell_type": "markdown",
   "metadata": {},
   "source": [
    "# Resultados para o conjunto de testes"
   ]
  },
  {
   "cell_type": "code",
   "execution_count": null,
   "metadata": {},
   "outputs": [],
   "source": [
    "%%R\n",
    "model_list <- list(gbm.original = gbm.orig,\n",
    "                   gbm.weighted = gbm.weighted,\n",
    "                   gbm.down = gbm.down,\n",
    "                   gbm.up = gbm.up,\n",
    "                   gbm.smote = gbm.smote)\n",
    "\n",
    "model_list_roc <- model_list %>%\n",
    "                    map(test_roc, data = test_data)\n",
    "\n",
    "model_list_roc %>% map(auc)"
   ]
  },
  {
   "cell_type": "markdown",
   "metadata": {},
   "source": [
    "Veja que a AUC calculada no conjunto de testes mostra uma clara distinção entre a implementação do modelo original e as que incorporaram uma técnica de ponderação ou amostragem, o modelo up-sampled  possuía o maior valor de AUC.\n",
    "\n",
    "\n",
    "# Obtendo as Predições"
   ]
  },
  {
   "cell_type": "code",
   "execution_count": null,
   "metadata": {},
   "outputs": [],
   "source": [
    "%%R\n",
    "pred.gbm.orig <- predict(gbm.orig, newdata = test_data)\n",
    "pred.gbm.weighted <- predict(gbm.weighted, newdata = test_data)\n",
    "pred.gbm.down <- predict(gbm.down, newdata = test_data)\n",
    "pred.gbm.up <- predict(gbm.up, newdata = test_data)\n",
    "pred.gbm.smote <- predict(gbm.smote, newdata = test_data)"
   ]
  },
  {
   "cell_type": "markdown",
   "metadata": {},
   "source": [
    "# Obtendo a Matrix de Confusão"
   ]
  },
  {
   "cell_type": "code",
   "execution_count": null,
   "metadata": {},
   "outputs": [],
   "source": [
    "%%R\n",
    "cm_gbm.original <- confusionMatrix(pred.gbm.orig, test_data$aprovado_vaga)\n",
    "cm_gbm.weighted <- confusionMatrix(pred.gbm.weighted, test_data$aprovado_vaga)\n",
    "cm_gbm.down     <- confusionMatrix(pred.gbm.down, test_data$aprovado_vaga)\n",
    "cm_gbm.up       <- confusionMatrix(pred.gbm.up, test_data$aprovado_vaga)\n",
    "cm_gbm.smote    <- confusionMatrix(pred.gbm.smote, test_data$aprovado_vaga)"
   ]
  },
  {
   "cell_type": "markdown",
   "metadata": {},
   "source": [
    "# Plotando a curva ROC do modelos"
   ]
  },
  {
   "cell_type": "code",
   "execution_count": null,
   "metadata": {},
   "outputs": [],
   "source": [
    "%%R\n",
    "results_list_roc <- list(NA)\n",
    "num_mod <- 1\n",
    "\n",
    "for(the_roc in model_list_roc){\n",
    "  \n",
    "  results_list_roc[[num_mod]] <- \n",
    "    data_frame(tpr = the_roc$sensitivities,\n",
    "               fpr = 1 - the_roc$specificities,\n",
    "               model = names(model_list)[num_mod])\n",
    "  \n",
    "  num_mod <- num_mod + 1\n",
    "  \n",
    "}"
   ]
  },
  {
   "cell_type": "code",
   "execution_count": null,
   "metadata": {},
   "outputs": [],
   "source": [
    "%%R\n",
    "results_df_roc <- bind_rows(results_list_roc)"
   ]
  },
  {
   "cell_type": "code",
   "execution_count": null,
   "metadata": {},
   "outputs": [],
   "source": [
    "%%R\n",
    "custom_col <- c(\"#000000\", \"#009E73\", \"#0072B2\", \"#D55E00\", \"#CC79A7\",\"#CC29E67\")\n",
    "\n",
    "ggplot(aes(x = fpr,  y = tpr, group = model), data = results_df_roc) +\n",
    "  geom_line(aes(color = model), size = 1) +\n",
    "  scale_color_manual(values = custom_col) +\n",
    "  geom_abline(intercept = 0, slope = 1, color = \"gray\", size = 1) +\n",
    "  theme_bw(base_size = 18)"
   ]
  },
  {
   "cell_type": "markdown",
   "metadata": {},
   "source": [
    "# Comparando os Resultados\n",
    "\n",
    "Agora vamos comparar as previsões de todos esses modelos:"
   ]
  },
  {
   "cell_type": "code",
   "execution_count": null,
   "metadata": {},
   "outputs": [],
   "source": [
    "%%R\n",
    "models <- list(gbm.original = gbm.orig,\n",
    "               gbm.weighted = gbm.weighted,\n",
    "               gbm.down = gbm.down,\n",
    "               gbm.up = gbm.up,\n",
    "               gbm.smote = gbm.smote)"
   ]
  },
  {
   "cell_type": "markdown",
   "metadata": {},
   "source": [
    "# Plotando Métricas Importantes"
   ]
  },
  {
   "cell_type": "code",
   "execution_count": null,
   "metadata": {},
   "outputs": [],
   "source": [
    "%%R\n",
    "resampling <- resamples(models)\n",
    "bwplot(resampling)"
   ]
  },
  {
   "cell_type": "code",
   "execution_count": null,
   "metadata": {},
   "outputs": [],
   "source": [
    "%%R\n",
    "comparison <- data.frame(model = names(models),\n",
    "                         Sensitivity = rep(NA, length(models)),\n",
    "                         Specificity = rep(NA, length(models)),\n",
    "                         Precision = rep(NA, length(models)),\n",
    "                         Recall = rep(NA, length(models)),\n",
    "                         F1 = rep(NA, length(models)))"
   ]
  },
  {
   "cell_type": "code",
   "execution_count": null,
   "metadata": {},
   "outputs": [],
   "source": [
    "%%R\n",
    "for(name in names(models)){\n",
    "  \n",
    "  model <- get(paste0(\"cm_\", name))\n",
    "\n",
    "  comparison[comparison$model == name,'Sensitivity'] <- model[[4]]['Sensitivity']\n",
    "  comparison[comparison$model == name,'Specificity'] <- model[[4]][\"Specificity\"]\n",
    "  comparison[comparison$model == name,'Precision'] <- model[[4]][\"Precision\"]\n",
    "  comparison[comparison$model == name,'Recall'] <- model[[4]][\"Recall\"]\n",
    "  comparison[comparison$model == name,'F1'] <- model[[4]][\"F1\"]      \n",
    "}\n",
    "\n",
    "comparison "
   ]
  },
  {
   "cell_type": "markdown",
   "metadata": {},
   "source": [
    "o modelo resultado para métrica **F1-score** foi obtido pelo modelo **gbm.up**.\n",
    "\n",
    "\n",
    "> Foi observado no modelo **gbm.weighted** que ao se alterar as proporções dos pesos de (0.5,0.5) para (0.45,0.55) e (0.35,0.65) dos níveis **aprovado (1)**  e **reprovado (0)**, a métrica **F1-Score** teve seu valor aumentado saindo de aproximadamente 0.31 para 0.34, porém o **Recall** perdia valor, ou seja, o erro para a classe positiva **aprovado** aumentava, deste modo optei por hora pelas proporções **(0.5,0.5)**.     \n",
    "\n",
    "# Predição Modelo up-sampled com a Base de Submissão"
   ]
  },
  {
   "cell_type": "code",
   "execution_count": null,
   "metadata": {},
   "outputs": [],
   "source": [
    "%%R\n",
    "pred.gbm.up_df.sub <- predict(gbm.up, newdata = df.sub)\n",
    "\n",
    "pred.gbm.up_df.sub = as.character(pred.gbm.up_df.sub)\n",
    "\n",
    "pred.gbm.up_df.sub[pred.gbm.up_df.sub == 'aprovado'] <- 1\n",
    "pred.gbm.up_df.sub[pred.gbm.up_df.sub == 'reprovado'] <- 0\n",
    "\n",
    "resultado <- data.frame(aprovado_vaga =  pred.gbm.up_df.sub, stringsAsFactors = T)"
   ]
  },
  {
   "cell_type": "code",
   "execution_count": null,
   "metadata": {},
   "outputs": [],
   "source": [
    "%%R\n",
    "resultado %>% head()"
   ]
  },
  {
   "cell_type": "markdown",
   "metadata": {},
   "source": [
    "# Exportando Resultados"
   ]
  },
  {
   "cell_type": "code",
   "execution_count": null,
   "metadata": {},
   "outputs": [],
   "source": [
    "%%R\n",
    "reticulate::py_save_object(resultado,\"../outputs/resultado.pkl\", pickle = \"pickle\")"
   ]
  }
 ],
 "metadata": {},
 "nbformat": 4,
 "nbformat_minor": 2
}
