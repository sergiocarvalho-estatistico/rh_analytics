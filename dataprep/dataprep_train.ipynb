{
 "cells": [
  {
   "cell_type": "markdown",
   "metadata": {},
   "source": [
    "---\n",
    "title: \"RH Analytics\"\n",
    "sutitle: \"Preparando o Conjunto de Dados de Treinamento\"\n",
    "author: \"Sérgio Carvalho\"\n",
    "date: \"02 setembro, 2019\"\n",
    "output:\n",
    "  rmdformats::readthedown:\n",
    "    self_contained: true\n",
    "    thumbnails: true\n",
    "    lightbox: true\n",
    "    gallery: false\n",
    "    highlight: zenburn \n",
    "    code_folding: show\n",
    "    style_body: justify\n",
    "    df_print: paged\n",
    "    number_sections: yes\n",
    "    toc_float:\n",
    "      collapsed: yes\n",
    "      smooth_scroll: yes\n",
    "editor_options: \n",
    "    chunk_output_type: inline\n",
    "---\n",
    "\n",
    "\n",
    "\n",
    "\n",
    "\n",
    "\n",
    "\n",
    "\n",
    "\n",
    "# Objetivos\n",
    "\n",
    "  * Número de variáveis: 18 \n",
    "  * Tipo de variáveis\n",
    "      * * Inteiras ou discretas: \n",
    "      * * Numéricas ou double\n",
    "      * * Categóricas\n",
    "      * * Qualitativas\n",
    "   * Qualidade dos dados          \n",
    "      * * Quantidade de NA's por variável\n",
    "  * Criação de novas variáveis, se precisar\n",
    "  * Transformação das variáveis, se precisar\n",
    "\n",
    "\n",
    "\n",
    "# Lendo os Conjuntos de Dados"
   ]
  },
  {
   "cell_type": "code",
   "execution_count": null,
   "metadata": {},
   "outputs": [],
   "source": [
    "%%R\n",
    "reticulate::source_python(\"../pickle_reader.py\")\n",
    "df.train <- read_pickle_file(\"../dataset/base_treinamento_testes.pkl\") %>%\n",
    "                                          data.frame(stringsAsFactors = F)\n",
    "\n",
    "df.sub <- read_pickle_file(\"../dataset/base_submission.pkl\") %>%\n",
    "                                            data.frame(stringsAsFactors = F)"
   ]
  },
  {
   "cell_type": "markdown",
   "metadata": {},
   "source": [
    "## Base de treinamento"
   ]
  },
  {
   "cell_type": "code",
   "execution_count": null,
   "metadata": {},
   "outputs": [],
   "source": [
    "%%R\n",
    "df.train %>% head(10)"
   ]
  },
  {
   "cell_type": "markdown",
   "metadata": {},
   "source": [
    "## Base de Submissão"
   ]
  },
  {
   "cell_type": "code",
   "execution_count": null,
   "metadata": {},
   "outputs": [],
   "source": [
    "%%R\n",
    "df.sub %>% head(10)"
   ]
  },
  {
   "cell_type": "markdown",
   "metadata": {},
   "source": [
    "Adicionando a variável **aprovado_vaga** na base de submissão."
   ]
  },
  {
   "cell_type": "code",
   "execution_count": null,
   "metadata": {},
   "outputs": [],
   "source": [
    "%%R\n",
    "df.sub$aprovado_vaga <- NA\n",
    "df.sub %>% head(20)"
   ]
  },
  {
   "cell_type": "markdown",
   "metadata": {},
   "source": [
    "## Unindo as bases \n",
    "\n",
    "Agora vou juntar as bases de treinamento e submissão para tratar os dados de forma uniforme."
   ]
  },
  {
   "cell_type": "code",
   "execution_count": null,
   "metadata": {},
   "outputs": [],
   "source": [
    "%%R\n",
    "df.all <- rbind(df.train,df.sub)"
   ]
  },
  {
   "cell_type": "markdown",
   "metadata": {},
   "source": [
    "## Há quantos tipo de dados ?"
   ]
  },
  {
   "cell_type": "code",
   "execution_count": null,
   "metadata": {},
   "outputs": [],
   "source": [
    "%%R\n",
    "lapply(df.all,class) %>%\n",
    "                unlist %>% \n",
    "          as.character %>% \n",
    "                 table"
   ]
  },
  {
   "cell_type": "markdown",
   "metadata": {},
   "source": [
    "Quais são essas colunas com o tipo de dados lista?\n",
    "\n",
    "## Colunas com tipo de dados __list__."
   ]
  },
  {
   "cell_type": "code",
   "execution_count": null,
   "metadata": {},
   "outputs": [],
   "source": [
    "%%R\n",
    "df.all[,lapply(df.all,class) == 'list'] %>% head() "
   ]
  },
  {
   "cell_type": "markdown",
   "metadata": {},
   "source": [
    "### Recuperando as informações das colunas com tipo de dados __list__."
   ]
  },
  {
   "cell_type": "code",
   "execution_count": null,
   "metadata": {},
   "outputs": [],
   "source": [
    "%%R\n",
    "df.all[,lapply(df.all,class) == 'list'] <- df.all[,lapply(df.all,class) == 'list'] %>%\n",
    "                                                                    lapply('as.character') %>%\n",
    "                                                                    data.frame()      "
   ]
  },
  {
   "cell_type": "markdown",
   "metadata": {},
   "source": [
    "E agora como estão os metadados?"
   ]
  },
  {
   "cell_type": "code",
   "execution_count": null,
   "metadata": {},
   "outputs": [],
   "source": [
    "%%R\n",
    "lapply(df.all,class) %>%\n",
    "                unlist %>% \n",
    "          as.character %>% \n",
    "                 table"
   ]
  },
  {
   "cell_type": "markdown",
   "metadata": {},
   "source": [
    "## Analisando as colunas pelo tipo de dados.\n",
    "\n",
    "### Tipo de dado String"
   ]
  },
  {
   "cell_type": "code",
   "execution_count": null,
   "metadata": {},
   "outputs": [],
   "source": [
    "%%R\n",
    "df.all[,lapply(df.all,class) == 'character'] %>% head()"
   ]
  },
  {
   "cell_type": "markdown",
   "metadata": {},
   "source": [
    "Vamos transformar o tipo de dados dessas variáveis de string para categóricas."
   ]
  },
  {
   "cell_type": "code",
   "execution_count": null,
   "metadata": {},
   "outputs": [],
   "source": [
    "%%R\n",
    "df.all[,lapply(df.all,class) == 'character'] = df.all[,lapply(df.all,class) == 'character'] %>% \n",
    "                                                                                    apply(2,factor) %>% \n",
    "                                                                   data.frame(stringsAsFactors = T)"
   ]
  },
  {
   "cell_type": "markdown",
   "metadata": {},
   "source": [
    "Aproveito para converter o tipo de dado da variável aprovado_vaga, tipo inteiro, para categórico."
   ]
  },
  {
   "cell_type": "code",
   "execution_count": null,
   "metadata": {},
   "outputs": [],
   "source": [
    "%%R\n",
    "df.all$aprovado_vaga <- as.factor(df.all$aprovado_vaga)"
   ]
  },
  {
   "cell_type": "markdown",
   "metadata": {},
   "source": [
    "E agora, quais são os tipo de dados no data-frame ?"
   ]
  },
  {
   "cell_type": "code",
   "execution_count": null,
   "metadata": {},
   "outputs": [],
   "source": [
    "%%R\n",
    "lapply(df.all,class) %>%\n",
    "                unlist %>% \n",
    "          as.character %>% \n",
    "                 table"
   ]
  },
  {
   "cell_type": "markdown",
   "metadata": {},
   "source": [
    "overview das caracteríscas dos dados."
   ]
  },
  {
   "cell_type": "code",
   "execution_count": null,
   "metadata": {},
   "outputs": [],
   "source": [
    "%%R\n",
    "str(df.all)"
   ]
  },
  {
   "cell_type": "markdown",
   "metadata": {},
   "source": [
    "### Tipo de dado Categórico"
   ]
  },
  {
   "cell_type": "code",
   "execution_count": null,
   "metadata": {},
   "outputs": [],
   "source": [
    "%%R\n",
    "df.fator <- df.all[,lapply(df.all,class) == 'factor'] "
   ]
  },
  {
   "cell_type": "markdown",
   "metadata": {},
   "source": [
    "informações resumida dos dados."
   ]
  },
  {
   "cell_type": "code",
   "execution_count": null,
   "metadata": {},
   "outputs": [],
   "source": [
    "%%R\n",
    "df.fator %>% \n",
    "      summary"
   ]
  },
  {
   "cell_type": "markdown",
   "metadata": {},
   "source": [
    "* Observe que nas variáveis __area_interesse_candidato__, __cargo_vaga e cidade_vaga__ há um números significativo de valores nulos, esses valores podem ser tratados por uma série de técnicas que vão desde o imput através de modelagem até a sua exclusão.  \n",
    "\n",
    "  * Outro ponto, é o fato de a variável __nível_vaga__ ter apenas 1 categoria __'JUNIOR/TRAINEE'__, logo iremos excluí-la de nossa análise, pois com apenas uma categoria ou valor qualquer variável não nos fornece informações relevantes. \n",
    "\n",
    "  * As categorias da variável de interesse estão desbalanceadas, observe que o número de eventos para a categoria 1 é um pouco maior que 10% do número de eventos da categoria 0, isto implica que pode ser necessário algum processo de amostragem para atingir uma performance razoável como output do processo de modelagem. \n",
    "\n",
    "\n",
    "\n",
    "### Tipo de Dado Numérico"
   ]
  },
  {
   "cell_type": "code",
   "execution_count": null,
   "metadata": {},
   "outputs": [],
   "source": [
    "%%R\n",
    "df.num <- df.all[,lapply(df.all,class) == 'numeric'] \n",
    "df.num %>% head()"
   ]
  },
  {
   "cell_type": "markdown",
   "metadata": {},
   "source": [
    "### Resumo dos dados numéricos"
   ]
  },
  {
   "cell_type": "code",
   "execution_count": null,
   "metadata": {},
   "outputs": [],
   "source": [
    "%%R\n",
    "summary(df.num)"
   ]
  },
  {
   "cell_type": "markdown",
   "metadata": {},
   "source": [
    "De forma geral os valores dessas variáveis apresentam um comportamento bem distribuído em torno de sua média/mediana e isso ajuda bastante no processo de convergência para a(s) estimativa(s) dos valore(s) dos parâmetro(s) que cada método de aprendizagem dispoe. No entanto, as variáveis __ultimo_salario_candidato__ e __mediana_teste_espanhol_candidato__ apresentam pontos que estão de certa forma distantes de suas médias/mediana podendo causar assimetria em seus comportamentos e como consequência uma certa dificuldade em se realizar predições sobre eles. \n",
    "\n",
    "Os pontos extremos, outliers, muitas vezes são retirados dos conjuntos de dados de forma equivocada e quando isso ocorre o modelo passa a não representar a realidade do evento de interesse limitando-se a predições compreendidas dentro de um range menor de valores o que certamente prejudica a tomada de decisão.\n",
    "\n",
    "\n",
    "## A variável __codigo_vaga__\n",
    "\n",
    "Será que podemos transformar os códigos desssas vagas em categorias? Afinal, há quantos códigos de vagas?"
   ]
  },
  {
   "cell_type": "code",
   "execution_count": null,
   "metadata": {},
   "outputs": [],
   "source": [
    "%%R\n",
    "table(df.num$codigo_vaga)"
   ]
  },
  {
   "cell_type": "markdown",
   "metadata": {},
   "source": [
    "veja que interessante há 27 códigos diferentes, iremos substituí-los por letras e converter esta variável em categórica."
   ]
  },
  {
   "cell_type": "code",
   "execution_count": null,
   "metadata": {},
   "outputs": [],
   "source": [
    "%%R\n",
    "set.seed(497)\n",
    "df.num$codigo_vaga <- as.character(df.num$codigo_vaga)\n",
    "(codigos <- data.frame(codigos = df.num$codigo_vaga %>% \n",
    "                                              table %>% \n",
    "                                               names,\n",
    "                       letras = as.character(c(LETTERS[1:26],\n",
    "                                               paste(LETTERS[1:2],\n",
    "                                                     collapse = \"\"))),\n",
    "                                stringsAsFactors = F))"
   ]
  },
  {
   "cell_type": "markdown",
   "metadata": {},
   "source": [
    "substituindo os códigos da variável __codigo_vaga__ por letras."
   ]
  },
  {
   "cell_type": "code",
   "execution_count": null,
   "metadata": {},
   "outputs": [],
   "source": [
    "%%R\n",
    "for(i in 1:nrow(codigos)) df.num[df.num$codigo_vaga == codigos[i,1],'codigo_vaga'] <- as.character(codigos[i,2]) "
   ]
  },
  {
   "cell_type": "code",
   "execution_count": null,
   "metadata": {},
   "outputs": [],
   "source": [
    "%%R\n",
    "df.num %>% head"
   ]
  },
  {
   "cell_type": "markdown",
   "metadata": {},
   "source": [
    "## Dados Categóricos + Numéricos"
   ]
  },
  {
   "cell_type": "code",
   "execution_count": null,
   "metadata": {},
   "outputs": [],
   "source": [
    "%%R\n",
    "df.all = bind_cols(df.fator,df.num) %>% \n",
    "         select(aprovado_vaga,codigo_vaga, everything()) %>%\n",
    "            data.frame(stringsAsFactors = T)"
   ]
  },
  {
   "cell_type": "code",
   "execution_count": null,
   "metadata": {},
   "outputs": [],
   "source": [
    "%%R\n",
    "xtabs( ~ aprovado_vaga + codigo_vaga, \n",
    "           data = df.all[!is.na(df.all$aprovado_vaga),]) %>% \n",
    "           prop.table(2) %>% \n",
    "           barplot(legend = T, horiz = F, las = 1, main = '\\n Tabela das Proporções Condicionais das Variáveis codigo_vaga vs aprovado_vaga \\n')"
   ]
  },
  {
   "cell_type": "markdown",
   "metadata": {},
   "source": [
    "Observe no gráfico acima que dependendo do código da vaga em que o candidado se inscrever ele terá maior ou menor chance de ser aprovado, esta variável poderá nos ajudar a discriminar a variável resposta __aprovado_vaga__.   \n",
    "\n",
    "## Resumo dos dados"
   ]
  },
  {
   "cell_type": "code",
   "execution_count": null,
   "metadata": {},
   "outputs": [],
   "source": [
    "%%R\n",
    "skim_to_wide(df.all)"
   ]
  },
  {
   "cell_type": "markdown",
   "metadata": {},
   "source": [
    "Como os valores nulos foram transformados em categóricos a coluna missing nos diz que não há dados nulos em nosso dataframe."
   ]
  },
  {
   "cell_type": "code",
   "execution_count": null,
   "metadata": {},
   "outputs": [],
   "source": [
    "%%R\n",
    "df.all$codigo_vaga <- as.factor(df.all$codigo_vaga)"
   ]
  },
  {
   "cell_type": "markdown",
   "metadata": {},
   "source": [
    "Qual a importância de cada variável em relação a variável resposta.\n",
    " \n",
    "## Importância das Variáveis"
   ]
  },
  {
   "cell_type": "code",
   "execution_count": null,
   "metadata": {},
   "outputs": [],
   "source": [
    "%%R\n",
    "importance.vars(df.all,'aprovado_vaga')"
   ]
  },
  {
   "cell_type": "markdown",
   "metadata": {},
   "source": [
    "Aqui temos uma idéia prévia das variáveis que poderão fazer parte do modelo, veja que as variáveis __ultimo_cargo_candidato__, __mediana_teste_ingles_candidato__, __cidade_candidato__ podem contribuir significativamente para nos ajudar a explicar o comportamento da variável resposta.  \n",
    "\n",
    "\n",
    "## Número de Categoria das Variáveis"
   ]
  },
  {
   "cell_type": "code",
   "execution_count": null,
   "metadata": {},
   "outputs": [],
   "source": [
    "%%R\n",
    "apply(df.all,2,function(x) length(table(x))) %>% sort(decreasing = T) "
   ]
  },
  {
   "cell_type": "markdown",
   "metadata": {},
   "source": [
    "Note que as variáveis __ultimo_cargo_candidato__, __cidade_candidato__, __area_interesse_candidato__ possuem muitas categorias e isto pode ser um problema quando formos realizar a modelagem, vamos analisá-las. \n",
    "\n",
    "## Variável __ultimo_cargo_candidato__\n",
    "\n",
    "Quais são as categorias da variável __ultimo_cargo_candidato__?"
   ]
  },
  {
   "cell_type": "code",
   "execution_count": null,
   "metadata": {},
   "outputs": [],
   "source": [
    "%%R\n",
    "df.all$ultimo_cargo_candidato %>% \n",
    "                        table %>% \n",
    "         sort(decreasing = T) %>%\n",
    "                     head(50)"
   ]
  },
  {
   "cell_type": "markdown",
   "metadata": {},
   "source": [
    "Com uma rápida olhada nestas categorias é possível observar que as palavras __ESTAGIO__, __ENGENHEIRO__, __ANALISTA__, __TRAINEE__ entre outras são bastante frequentes, precisamos trata-las afim de reduzir o número de categorias desta variável.       \n",
    "Agora vamos fazer um split em cada string da variável __ultimo_cargo_candidato__ e por fim contar verficar as categorias mais frequentes."
   ]
  },
  {
   "cell_type": "code",
   "execution_count": null,
   "metadata": {},
   "outputs": [],
   "source": [
    "%%R\n",
    "df.all$ultimo_cargo_candidato %>% \n",
    "                 str_split(\" \") %>% \n",
    "                         unlist %>%\n",
    "                        table() %>% \n",
    "           sort(decreasing = T) %>% \n",
    "                       head(50)"
   ]
  },
  {
   "cell_type": "markdown",
   "metadata": {},
   "source": [
    "criando uma variável."
   ]
  },
  {
   "cell_type": "code",
   "execution_count": null,
   "metadata": {},
   "outputs": [],
   "source": [
    "%%R\n",
    "df.all$emprego <- NA \n",
    "df.all$emprego <- as.character(df.all$emprego)"
   ]
  },
  {
   "cell_type": "code",
   "execution_count": null,
   "metadata": {},
   "outputs": [],
   "source": [
    "%%R\n",
    "(df.cargo <- readxl::read_excel('../dataset/ultimo_cargo.xlsx',sheet = 'Plan1'))  "
   ]
  },
  {
   "cell_type": "markdown",
   "metadata": {},
   "source": [
    "imputando as novas categorias referente ao último cargo do candidato."
   ]
  },
  {
   "cell_type": "code",
   "execution_count": null,
   "metadata": {},
   "outputs": [],
   "source": [
    "%%R\n",
    "for(i in 1:nrow(df.cargo)){ \n",
    "\n",
    "  df.all[str_detect(as.character(df.all[,3]),as.character(df.cargo[i,1])),'emprego'] <- as.character(df.cargo[i,2])\n",
    "}"
   ]
  },
  {
   "cell_type": "code",
   "execution_count": null,
   "metadata": {},
   "outputs": [],
   "source": [
    "%%R\n",
    "df.all %>% \n",
    "  select(ultimo_cargo_candidato,emprego)"
   ]
  },
  {
   "cell_type": "markdown",
   "metadata": {},
   "source": [
    "E agora ficamos com quantas categorias?"
   ]
  },
  {
   "cell_type": "code",
   "execution_count": null,
   "metadata": {},
   "outputs": [],
   "source": [
    "%%R\n",
    "df.all$emprego %>% \n",
    "  table %>% \n",
    "  sort(decreasing = T)"
   ]
  },
  {
   "cell_type": "markdown",
   "metadata": {},
   "source": [
    "agora temos apenas 25 categorias, ocorre porém que este processo de redução das categorias implica em termos uma menor variabilidade da variável de interesse em relação a essas novas categoricas, o que de certa forma acaba prejudicando o desempenho dos modelos, o ideal é encontrar o número mínimo de categorias que maximizam a variabilidade da variável resposta."
   ]
  },
  {
   "cell_type": "code",
   "execution_count": null,
   "metadata": {},
   "outputs": [],
   "source": [
    "%%R\n",
    "sum(df.all$emprego %>% is.na())/nrow(df.all)"
   ]
  },
  {
   "cell_type": "markdown",
   "metadata": {},
   "source": [
    "a categoria **OUTROS** irá representar as categorias menos frequentes."
   ]
  },
  {
   "cell_type": "code",
   "execution_count": null,
   "metadata": {},
   "outputs": [],
   "source": [
    "%%R\n",
    "df.all$emprego[is.na(df.all$emprego)] <- 'OUTROS'"
   ]
  },
  {
   "cell_type": "markdown",
   "metadata": {},
   "source": [
    "atribuindo as novas categorias a variável **ultimo_cargo_candidato**."
   ]
  },
  {
   "cell_type": "code",
   "execution_count": null,
   "metadata": {},
   "outputs": [],
   "source": [
    "%%R\n",
    "df.all$ultimo_cargo_candidato <- df.all$emprego"
   ]
  },
  {
   "cell_type": "markdown",
   "metadata": {},
   "source": [
    "deletando a variável emprego."
   ]
  },
  {
   "cell_type": "code",
   "execution_count": null,
   "metadata": {},
   "outputs": [],
   "source": [
    "%%R\n",
    "df.all$emprego <- NULL"
   ]
  },
  {
   "cell_type": "markdown",
   "metadata": {},
   "source": [
    "vejamos como ficou nosso dataframe."
   ]
  },
  {
   "cell_type": "code",
   "execution_count": null,
   "metadata": {},
   "outputs": [],
   "source": [
    "%%R\n",
    "df.all %>% head()"
   ]
  },
  {
   "cell_type": "markdown",
   "metadata": {},
   "source": [
    "## Variável __area_interesse_candidato__\n",
    "\n",
    "\n",
    "Com uma rápida olhada nestas categorias é possível observar que as palavras __ENGENHARIA__, __ADMINISTRACAO__, __PRODUCAO__, __COMERCIAL/VENDAS__ entre outras são bastante frequentes, precisamos tratá-las afim de reduzir o número de categorias destas variáveis.     \n",
    "\n",
    "Agora vamos fazer um split em cada string da variável __area_interesse_candidato__ e por fim contar verficar as categorias mais frequentes."
   ]
  },
  {
   "cell_type": "code",
   "execution_count": null,
   "metadata": {},
   "outputs": [],
   "source": [
    "%%R\n",
    "area <- df.all$area_interesse_candidato %>% \n",
    "                         str_split(\" \") %>% \n",
    "                                 unlist %>%\n",
    "                                table() %>% \n",
    "                   sort(decreasing = T) %>% \n",
    "                                names()"
   ]
  },
  {
   "cell_type": "markdown",
   "metadata": {},
   "source": [
    "a função relationship recebe uma palavra e uma vetor de strings e nos retorna o contexto da palavra para melhor categoriza-la."
   ]
  },
  {
   "cell_type": "code",
   "execution_count": null,
   "metadata": {},
   "outputs": [],
   "source": [
    "%%R\n",
    "y <- as.character(df.all$area_interesse_candidato)\n",
    "relationship(area[1],y)"
   ]
  },
  {
   "cell_type": "code",
   "execution_count": null,
   "metadata": {},
   "outputs": [],
   "source": [
    "%%R\n",
    "df.area <- readxl::read_excel('../dataset/area_interesse.xlsx',sheet = 'Plan1')  "
   ]
  },
  {
   "cell_type": "markdown",
   "metadata": {},
   "source": [
    "criando uma variável denomida de __area__."
   ]
  },
  {
   "cell_type": "code",
   "execution_count": null,
   "metadata": {},
   "outputs": [],
   "source": [
    "%%R\n",
    "df.all$area <- NA "
   ]
  },
  {
   "cell_type": "markdown",
   "metadata": {},
   "source": [
    "imputando as novas categorias referente a área de interesse do candidato."
   ]
  },
  {
   "cell_type": "code",
   "execution_count": null,
   "metadata": {},
   "outputs": [],
   "source": [
    "%%R\n",
    "for(i in 1:nrow(df.area)){ \n",
    "  \n",
    "  df.all[str_detect(as.character(df.all[,4]),as.character(df.area[i,1])),'area'] <- as.character(df.area[i,2])\n",
    "}"
   ]
  },
  {
   "cell_type": "code",
   "execution_count": null,
   "metadata": {},
   "outputs": [],
   "source": [
    "%%R\n",
    "df.all %>% \n",
    "  select(cidade_candidato,area)"
   ]
  },
  {
   "cell_type": "markdown",
   "metadata": {},
   "source": [
    "porcentagem de valores nulos **NA** em **area**."
   ]
  },
  {
   "cell_type": "code",
   "execution_count": null,
   "metadata": {},
   "outputs": [],
   "source": [
    "%%R\n",
    "sum(df.all$area %>% is.na())/nrow(df.all)"
   ]
  },
  {
   "cell_type": "markdown",
   "metadata": {},
   "source": [
    "as categorias de menor frequência serão representadas pela categoria  **OUTRAS**."
   ]
  },
  {
   "cell_type": "code",
   "execution_count": null,
   "metadata": {},
   "outputs": [],
   "source": [
    "%%R\n",
    "df.all$area[is.na(df.all$area)] <- 'OUTROS'"
   ]
  },
  {
   "cell_type": "markdown",
   "metadata": {},
   "source": [
    "atribuindo as novas categorias a variável **area_interesse_candidato**."
   ]
  },
  {
   "cell_type": "code",
   "execution_count": null,
   "metadata": {},
   "outputs": [],
   "source": [
    "%%R\n",
    "df.all$area_interesse_candidato <- df.all$area"
   ]
  },
  {
   "cell_type": "markdown",
   "metadata": {},
   "source": [
    "deletando a variável area"
   ]
  },
  {
   "cell_type": "code",
   "execution_count": null,
   "metadata": {},
   "outputs": [],
   "source": [
    "%%R\n",
    "df.all$area <- NULL"
   ]
  },
  {
   "cell_type": "markdown",
   "metadata": {},
   "source": [
    "Selecinando algumas variáveis."
   ]
  },
  {
   "cell_type": "code",
   "execution_count": null,
   "metadata": {},
   "outputs": [],
   "source": [
    "%%R\n",
    "df.all <- df.all %>% \n",
    "           select(-nivel_vaga, \n",
    "                  -formacao_vaga,\n",
    "                  -cidade_candidato)"
   ]
  },
  {
   "cell_type": "markdown",
   "metadata": {},
   "source": [
    "dados de treinamento e submissão."
   ]
  },
  {
   "cell_type": "code",
   "execution_count": null,
   "metadata": {},
   "outputs": [],
   "source": [
    "%%R\n",
    "df.train <- df.all[!is.na(df.all$aprovado_vaga),]\n",
    "df.sub <- df.all[is.na(df.all$aprovado_vaga),]"
   ]
  },
  {
   "cell_type": "markdown",
   "metadata": {},
   "source": [
    "# Exportando os dados"
   ]
  },
  {
   "cell_type": "code",
   "execution_count": null,
   "metadata": {},
   "outputs": [],
   "source": [
    "%%R\n",
    "write.csv(df.train,'../outputs/df.train.csv')\n",
    "write.csv(df.sub,'../outputs/df.sub.csv')"
   ]
  }
 ],
 "metadata": {},
 "nbformat": 4,
 "nbformat_minor": 2
}
